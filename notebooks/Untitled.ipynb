{
 "cells": [
  {
   "cell_type": "code",
   "execution_count": 1,
   "id": "d29149a5",
   "metadata": {},
   "outputs": [],
   "source": [
    "from pathlib import Path\n",
    "import json\n",
    "import sys\n",
    "\n",
    "import hydra\n",
    "from hydra import (initialize, \n",
    "                   initialize_config_module, \n",
    "                   initialize_config_dir, \n",
    "                   compose)\n",
    "from hydra.utils import get_original_cwd\n",
    "import numpy as np\n",
    "import pandas as pd"
   ]
  },
  {
   "cell_type": "code",
   "execution_count": 2,
   "id": "9295db69",
   "metadata": {},
   "outputs": [],
   "source": [
    "with initialize(config_path=\"../config\"):\n",
    "    # Load config into cfg\n",
    "    cfg = compose(config_name=\"config\")"
   ]
  },
  {
   "cell_type": "code",
   "execution_count": 3,
   "id": "1c724dff",
   "metadata": {},
   "outputs": [],
   "source": [
    "# Replacing hydra function\n",
    "def get_original_cwd() -> str:\n",
    "    return \"..\""
   ]
  },
  {
   "cell_type": "code",
   "execution_count": 4,
   "id": "19f4e57f",
   "metadata": {},
   "outputs": [],
   "source": [
    "def read_news(config=cfg) -> list[str]:\n",
    "    file_dir = Path(get_original_cwd()) / config.dataset.data_dir / config.dataset.file_name\n",
    "\n",
    "    print(\"Reading file from disk\")\n",
    "\n",
    "    with open(file_dir, mode=\"r\") as f:\n",
    "        news_corpus: str = f.read()\n",
    "\n",
    "    news_corpus: list = news_corpus.split(\"\\n\")\n",
    "    for news in news_corpus:\n",
    "        if news != \"\":\n",
    "            doc = \"\\n\".join(json.loads(news)[\"paras\"])\n",
    "            yield doc"
   ]
  },
  {
   "cell_type": "code",
   "execution_count": 5,
   "id": "f67cf6ec",
   "metadata": {},
   "outputs": [],
   "source": [
    "all_news = read_news()"
   ]
  },
  {
   "cell_type": "code",
   "execution_count": null,
   "id": "322752fc",
   "metadata": {},
   "outputs": [
    {
     "name": "stdout",
     "output_type": "stream",
     "text": [
      "Reading file from disk\n"
     ]
    }
   ],
   "source": [
    "len(list(all_news))"
   ]
  },
  {
   "cell_type": "code",
   "execution_count": 7,
   "id": "319d7e06",
   "metadata": {},
   "outputs": [
    {
     "data": {
      "text/plain": [
       "1.2530859375"
      ]
     },
     "execution_count": 7,
     "metadata": {},
     "output_type": "execute_result"
    }
   ],
   "source": [
    "(sys.getsizeof(all_news) / 1000) / 1024 #MB"
   ]
  },
  {
   "cell_type": "code",
   "execution_count": 11,
   "id": "bd3dadaf",
   "metadata": {},
   "outputs": [
    {
     "name": "stdout",
     "output_type": "stream",
     "text": [
      "Number of News: 152355\n"
     ]
    }
   ],
   "source": [
    "print(f\"Number of News: {len(all_news)}\")"
   ]
  },
  {
   "cell_type": "code",
   "execution_count": 16,
   "id": "27c55e42",
   "metadata": {},
   "outputs": [
    {
     "name": "stdout",
     "output_type": "stream",
     "text": [
      "WASHINGTON ― The White House is preparing to send Congress a roughly $ 15 billion package of spending cuts Tuesday using an obscure budgetary process to rescind so-called unobligated funds while also preparing another package that would take money from the recently passed government funding bill .\n",
      "A senior administration official told reporters on a conference call Monday that this would be the first of two packages ― with the White House expecting lawmakers to approve these recommended cuts before tackling another bundle of reductions directed at the omnibus spending bill passed in March . However , while the House looks apt to approve the package ― which would cut roughly $ 7 billion from the Children ’s Health Insurance Program ( CHIP ) , $ 4.3 billion from a government vehicle loan program and more than $ 100 million in unspent funds to address Hurricane Sandy damage ― the White House said it looked forward to having a “ conversation ” with the Senate .\n",
      "Senate Majority Leader Mitch McConnell ( R-Ky . ) has indicated he would oppose cuts that go back on the March agreement , but he may be open to a package like this one that targets money that simply has n’t been spent . Among those “ unobligated ” funds , the White House wants to rescind $ 800 million from an Affordable Care Act study of innovative health care payment programs , $ 252 million in funds never spent on addressing the Ebola outbreak , $ 123 million in leftover money from a railroad workers ’ benefit program and $ 148 million from an animal inspection account .\n",
      "Meanwhile , Democrats will likely oppose these first cuts , particularly because they go after the CHIP program .\n",
      "The White House contends its CHIP cuts wo n’t affect the health care program , noting that $ 5 billion were funds for a program whose authorization has expired and $ 2 billion is from a contingency fund that is n’t expected to be used . But Democrats see the proposal as a clear swipe at the Children ’s Health Insurance Program and are likely to point out that Republicans are trying to balance the budget ― at least to again give the impression that they ’re trying to balance the budget while the deficit increases ― on the backs of children .\n",
      "Because of that political argument , even with a sizable GOP majority in the House , the cuts are not a sure thing in either chamber , particularly the Senate . Under budget rules Congress approved in 1974 , the package requires only a simple majority in both chambers and ca n’t be filibustered in the Senate . Funds proposed for rescission are also frozen for 45 days or until Congress acts , which would come at the end of June .\n",
      "Lawmakers do have the ability to pare back the package , but they do n’t have the authority to add any more cuts in authorized spending to the proposal , and scaling back the rescissions would spoil the White House ’s talking point that this is the largest single rescission package ever sent to Congress .\n",
      "The second package of cuts would be an even heavier lift in both chambers .\n",
      "While conservatives welcome a plan that reduces the $ 1.3 trillion in spending in the March omnibus bill , Democrats see any attempt to take money away from that agreement as a clear breach of a hard-fought deal . With the threat of a second package on the way , Democrats may resist going along with the appropriations process for this year , which could again derail the spending process and force Republicans and Democrats to govern by approving another series of stopgap spending bills until a government funding bill is pushed to the brink .\n",
      "Still , the White House is moving forward with the plan , if only to appear serious about fiscal conservatism while it adds massive amounts of money to the national debt .\n",
      "“ We want to make sure the muscle memory behind this process is remembered by Washington , ” said the senior administration official who spoke on background to reporters Monday .\n",
      "Related Video : Where Trump Spending Cuts Could Come From\n",
      "Watch news , TV and more on Yahoo View .\n"
     ]
    }
   ],
   "source": [
    "print(all_news[3])"
   ]
  },
  {
   "cell_type": "code",
   "execution_count": null,
   "id": "bde31b3c",
   "metadata": {},
   "outputs": [],
   "source": []
  }
 ],
 "metadata": {
  "kernelspec": {
   "display_name": "Python 3",
   "language": "python",
   "name": "python3"
  },
  "language_info": {
   "codemirror_mode": {
    "name": "ipython",
    "version": 3
   },
   "file_extension": ".py",
   "mimetype": "text/x-python",
   "name": "python",
   "nbconvert_exporter": "python",
   "pygments_lexer": "ipython3",
   "version": "3.9.1"
  }
 },
 "nbformat": 4,
 "nbformat_minor": 5
}
