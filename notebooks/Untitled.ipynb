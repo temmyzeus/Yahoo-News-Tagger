{
 "cells": [
  {
   "cell_type": "code",
   "execution_count": 31,
   "id": "d29149a5",
   "metadata": {},
   "outputs": [],
   "source": [
    "import json\n",
    "import sys\n",
    "import time\n",
    "from pathlib import Path\n",
    "\n",
    "import hydra\n",
    "import matplotlib.pyplot as plt\n",
    "import numpy as np\n",
    "import pandas as pd\n",
    "import seaborn as sns\n",
    "import spacy\n",
    "from hydra import (\n",
    "    compose, \n",
    "    initialize, \n",
    "    initialize_config_dir,\n",
    "    initialize_config_module\n",
    ")\n",
    "from hydra.utils import get_original_cwd\n",
    "from nltk.corpus import stopwords\n",
    "from nltk.stem import PorterStemmer, SnowballStemmer, WordNetLemmatizer\n",
    "from nltk.tokenize import word_tokenize, wordpunct_tokenize\n",
    "from sklearn.base import BaseEstimator, TransformerMixin\n",
    "from sklearn.decomposition import (\n",
    "    LatentDirichletAllocation, \n",
    "    LatentDirichletAllocation,\n",
    "    NMF\n",
    ")\n",
    "from sklearn.pipeline import Pipeline\n",
    "from sklearn.feature_extraction.text import CountVectorizer, TfidfVectorizer"
   ]
  },
  {
   "cell_type": "code",
   "execution_count": 2,
   "id": "0c6bb3f6",
   "metadata": {},
   "outputs": [],
   "source": [
    "with initialize(config_path=\"../config\"):\n",
    "    # Load config into cfg\n",
    "    cfg = compose(config_name=\"config\")"
   ]
  },
  {
   "cell_type": "code",
   "execution_count": 3,
   "id": "b92b75fb",
   "metadata": {},
   "outputs": [],
   "source": [
    "# Replacing hydra function\n",
    "def get_original_cwd() -> str:\n",
    "    return \"..\""
   ]
  },
  {
   "cell_type": "code",
   "execution_count": 4,
   "id": "41c5f912",
   "metadata": {},
   "outputs": [],
   "source": [
    "def read_news(config=cfg) -> list[str]:\n",
    "    file_dir = Path(get_original_cwd()) / config.dataset.data_dir / config.dataset.file_name\n",
    "\n",
    "    print(\"Reading file from disk\")\n",
    "\n",
    "    with open(file_dir, mode=\"r\") as f:\n",
    "        news_corpus: str = f.read()\n",
    "\n",
    "    news_corpus: list = news_corpus.split(\"\\n\")\n",
    "    for news in news_corpus:\n",
    "        if news != \"\":\n",
    "            doc = \"\\n\".join(json.loads(news)[\"paras\"])\n",
    "            yield doc"
   ]
  },
  {
   "cell_type": "code",
   "execution_count": 5,
   "id": "98becbc4",
   "metadata": {},
   "outputs": [
    {
     "name": "stdout",
     "output_type": "stream",
     "text": [
      "Reading file from disk\n"
     ]
    }
   ],
   "source": [
    "all_news = read_news()\n",
    "all_news = list(all_news)"
   ]
  },
  {
   "cell_type": "code",
   "execution_count": 6,
   "id": "319d7e06",
   "metadata": {},
   "outputs": [
    {
     "data": {
      "text/plain": [
       "1.2530859375"
      ]
     },
     "execution_count": 6,
     "metadata": {},
     "output_type": "execute_result"
    }
   ],
   "source": [
    "(sys.getsizeof(all_news) / 1000) / 1024 #MB"
   ]
  },
  {
   "cell_type": "code",
   "execution_count": 7,
   "id": "bd3dadaf",
   "metadata": {},
   "outputs": [
    {
     "name": "stdout",
     "output_type": "stream",
     "text": [
      "Number of News: 152355\n"
     ]
    }
   ],
   "source": [
    "print(f\"Number of News: {len(all_news)}\")"
   ]
  },
  {
   "cell_type": "code",
   "execution_count": 8,
   "id": "3dab8583",
   "metadata": {},
   "outputs": [],
   "source": [
    "def clean_text(text: str):\n",
    "    return text.replace(\"\\n\", \" \") #replace newlines with spaces"
   ]
  },
  {
   "cell_type": "code",
   "execution_count": 9,
   "id": "08fa954f",
   "metadata": {},
   "outputs": [],
   "source": [
    "def count_stopwords(text: str):\n",
    "    \"\"\"Count number of stopwords in text\"\"\"\n",
    "    stopwords_set = set(stopwords.words(\"english\"))\n",
    "    text = text.lower()\n",
    "    return len([word for word in text.split(\" \") if word in stopwords_set])"
   ]
  },
  {
   "cell_type": "code",
   "execution_count": 10,
   "id": "0a6788e4",
   "metadata": {},
   "outputs": [],
   "source": [
    "clean_news = [clean_text(news) for news in all_news]\n",
    "stopwords_length =  [count_stopwords(news) for news in clean_news]"
   ]
  },
  {
   "cell_type": "code",
   "execution_count": 11,
   "id": "7e6b96d3",
   "metadata": {},
   "outputs": [
    {
     "data": {
      "image/png": "[encoded data removed]",
      "text/plain": [
       "<Figure size 360x360 with 1 Axes>"
      ]
     },
     "metadata": {
      "needs_background": "light"
     },
     "output_type": "display_data"
    }
   ],
   "source": [
    "sns.displot(stopwords_length)\n",
    "plt.show()"
   ]
  },
  {
   "cell_type": "code",
   "execution_count": 12,
   "id": "b92deb88",
   "metadata": {},
   "outputs": [],
   "source": [
    "nlp = spacy.load(\"en_core_web_sm\")"
   ]
  },
  {
   "cell_type": "code",
   "execution_count": 13,
   "id": "e7bb8406",
   "metadata": {},
   "outputs": [],
   "source": [
    "class TextNormalizer(BaseEstimator, TransformerMixin):\n",
    "    def _normalize(self, text: str) -> str:\n",
    "        text = text.replace(\"\\n\", \" \") #replace newlines with spaces\n",
    "        stopwords_set = set(stopwords.words(\"english\"))\n",
    "        return \" \".join([\n",
    "            word\n",
    "            for word in wordpunct_tokenize(text)\n",
    "            if word not in stopwords_set\n",
    "        ])\n",
    "    \n",
    "    def fit(self, X=None):\n",
    "        return self\n",
    "    \n",
    "    def transform(self, corpus, y=None):\n",
    "        return [self._normalize(doc) for index, doc in enumerate(corpus)]"
   ]
  },
  {
   "cell_type": "code",
   "execution_count": 33,
   "id": "860dabf2",
   "metadata": {},
   "outputs": [],
   "source": [
    "with initialize(config_path=\"../config\"):\n",
    "    cfg = compose(\"config\")"
   ]
  },
  {
   "cell_type": "code",
   "execution_count": null,
   "id": "6f1a7351",
   "metadata": {},
   "outputs": [],
   "source": [
    "pipeline = Pipeline([\n",
    "    (\"text_normalizer\", TextNormalizer()),\n",
    "    (\"frequecy_bow_vectorizer\", CountVectorizer()),\n",
    "    (\"topic_model\", LatentDirichletAllocation(n_components=cfg.model.n_topics))\n",
    "])\n",
    "\n",
    "out = pipeline.fit_transform(all_news)"
   ]
  },
  {
   "cell_type": "code",
   "execution_count": null,
   "id": "43aad17f",
   "metadata": {},
   "outputs": [],
   "source": []
  }
 ],
 "metadata": {
  "kernelspec": {
   "display_name": "Python 3",
   "language": "python",
   "name": "python3"
  },
  "language_info": {
   "codemirror_mode": {
    "name": "ipython",
    "version": 3
   },
   "file_extension": ".py",
   "mimetype": "text/x-python",
   "name": "python",
   "nbconvert_exporter": "python",
   "pygments_lexer": "ipython3",
   "version": "3.9.1"
  }
 },
 "nbformat": 4,
 "nbformat_minor": 5
}
