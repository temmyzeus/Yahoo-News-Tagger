{
 "cells": [
  {
   "cell_type": "code",
   "execution_count": 1,
   "id": "d29149a5",
   "metadata": {},
   "outputs": [],
   "source": [
    "from pathlib import Path\n",
    "import json\n",
    "import sys\n",
    "\n",
    "import hydra\n",
    "from hydra import (initialize, \n",
    "                   initialize_config_module, \n",
    "                   initialize_config_dir, \n",
    "                   compose)\n",
    "from hydra.utils import get_original_cwd\n",
    "import numpy as np\n",
    "import pandas as pd"
   ]
  },
  {
   "cell_type": "code",
   "execution_count": 2,
   "id": "0c6bb3f6",
   "metadata": {},
   "outputs": [],
   "source": [
    "with initialize(config_path=\"../config\"):\n",
    "    # Load config into cfg\n",
    "    cfg = compose(config_name=\"config\")"
   ]
  },
  {
   "cell_type": "code",
   "execution_count": 3,
   "id": "b92b75fb",
   "metadata": {},
   "outputs": [],
   "source": [
    "# Replacing hydra function\n",
    "def get_original_cwd() -> str:\n",
    "    return \"..\""
   ]
  },
  {
   "cell_type": "code",
   "execution_count": 4,
   "id": "41c5f912",
   "metadata": {},
   "outputs": [],
   "source": [
    "def read_news(config=cfg) -> list[str]:\n",
    "    file_dir = Path(get_original_cwd()) / config.dataset.data_dir / config.dataset.file_name\n",
    "\n",
    "    print(\"Reading file from disk\")\n",
    "\n",
    "    with open(file_dir, mode=\"r\") as f:\n",
    "        news_corpus: str = f.read()\n",
    "\n",
    "    news_corpus: list = news_corpus.split(\"\\n\")\n",
    "    for news in news_corpus:\n",
    "        if news != \"\":\n",
    "            doc = \"\\n\".join(json.loads(news)[\"paras\"])\n",
    "            yield doc"
   ]
  },
  {
   "cell_type": "code",
   "execution_count": 5,
   "id": "98becbc4",
   "metadata": {},
   "outputs": [
    {
     "name": "stdout",
     "output_type": "stream",
     "text": [
      "Reading file from disk\n"
     ]
    }
   ],
   "source": [
    "all_news = read_news()\n",
    "all_news = list(all_news)"
   ]
  },
  {
   "cell_type": "code",
   "execution_count": 6,
   "id": "319d7e06",
   "metadata": {},
   "outputs": [
    {
     "data": {
      "text/plain": [
       "1.2530859375"
      ]
     },
     "execution_count": 6,
     "metadata": {},
     "output_type": "execute_result"
    }
   ],
   "source": [
    "(sys.getsizeof(all_news) / 1000) / 1024 #MB"
   ]
  },
  {
   "cell_type": "code",
   "execution_count": 7,
   "id": "bd3dadaf",
   "metadata": {},
   "outputs": [
    {
     "name": "stdout",
     "output_type": "stream",
     "text": [
      "Number of News: 152355\n"
     ]
    }
   ],
   "source": [
    "print(f\"Number of News: {len(all_news)}\")"
   ]
  }
 ],
 "metadata": {
  "kernelspec": {
   "display_name": "Python 3",
   "language": "python",
   "name": "python3"
  },
  "language_info": {
   "codemirror_mode": {
    "name": "ipython",
    "version": 3
   },
   "file_extension": ".py",
   "mimetype": "text/x-python",
   "name": "python",
   "nbconvert_exporter": "python",
   "pygments_lexer": "ipython3",
   "version": "3.9.1"
  }
 },
 "nbformat": 4,
 "nbformat_minor": 5
}
